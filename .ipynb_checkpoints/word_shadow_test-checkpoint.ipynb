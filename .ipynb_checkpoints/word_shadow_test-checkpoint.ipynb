{
 "cells": [
  {
   "cell_type": "code",
   "execution_count": 3,
   "id": "673c31df-ebf6-4b5f-8d60-91df5dcb7089",
   "metadata": {},
   "outputs": [
    {
     "name": "stdout",
     "output_type": "stream",
     "text": [
      "['<s>', 'the', 'cat', 'sat', 'on', 'the', 'mat', '</s>']\n",
      "['<s>', 'a', 'small', 'dog', 'ran', 'quickly', '</s>']\n",
      "['<s>', 'the', 'big', 'cat', 'jumped', 'over', 'the', 'dog', '</s>']\n"
     ]
    }
   ],
   "source": [
    "import re\n",
    "import numpy as np\n",
    "\n",
    "# 1. Input sentences\n",
    "sentences = [\n",
    "    \"the cat sat on the mat\",\n",
    "    \"a small dog ran quickly\",\n",
    "    \"the big cat jumped over the dog\"\n",
    "]\n",
    "\n",
    "vocab_count_dict={}\n",
    "for sent0 in sentences:\n",
    "    sent_tokens0=re.findall(\"\\w+\",sent0)\n",
    "    padded=[\"<s>\"]+sent_tokens0+[\"</s>\"]\n",
    "    print(padded)\n",
    "\n",
    "# # 2. Preprocess\n",
    "# corpus = \" \".join(sentences).lower().split()\n",
    "# vocab = sorted(list(set(corpus)))\n",
    "# word_to_idx = {w: i for i, w in enumerate(vocab)}\n",
    "# idx_to_word = {i: w for w, i in word_to_idx.items()}\n",
    "# V = len(vocab)\n",
    "\n",
    "# # 3. Predefined features\n",
    "# features = [\"content_word\", \"function_word\"]\n",
    "# K = len(features)\n",
    "\n",
    "# # 4. Initialize parameters\n",
    "# np.random.seed(42)\n",
    "# F_raw = np.random.randn(V, K) * 0.01  # raw feature weights before sigmoid\n",
    "# T = np.random.randn(K, V) * 0.01      # transition matrix\n",
    "\n",
    "# lr = 0.05  # learning rate\n",
    "\n",
    "# # 5. Activation functions\n",
    "# def sigmoid(x):\n",
    "#     return 1 / (1 + np.exp(-x))\n",
    "\n",
    "# def sigmoid_deriv(sig):\n",
    "#     return sig * (1 - sig)\n",
    "\n",
    "# def softmax(x):\n",
    "#     e_x = np.exp(x - np.max(x))\n",
    "#     return e_x / np.sum(e_x)\n",
    "\n",
    "# # 6. Training loop\n",
    "# epochs = 50\n",
    "# for epoch in range(epochs):\n",
    "#     total_loss = 0\n",
    "#     for i in range(len(corpus) - 1):\n",
    "#         w_curr = word_to_idx[corpus[i]]\n",
    "#         w_next = word_to_idx[corpus[i + 1]]\n",
    "\n",
    "#         # Forward pass\n",
    "#         F_sigmoid = sigmoid(F_raw[w_curr])       # apply sigmoid: shape (K,)\n",
    "#         logits = F_sigmoid @ T                   # shape (V,)\n",
    "#         probs = softmax(logits)                  # shape (V,)\n",
    "\n",
    "#         # Loss (cross-entropy)\n",
    "#         loss = -np.log(probs[w_next] + 1e-9)\n",
    "#         total_loss += loss\n",
    "\n",
    "#         # Backward pass\n",
    "#         dlogits = probs.copy()\n",
    "#         dlogits[w_next] -= 1  # dL/dlogits\n",
    "\n",
    "#         dT = np.outer(F_sigmoid, dlogits)                # dL/dT: (K, V)\n",
    "#         dF_sigmoid = T @ dlogits                         # dL/d(sigmoid(F_raw)): shape (K,)\n",
    "#         dF_raw = dF_sigmoid * sigmoid_deriv(F_sigmoid)   # dL/dF_raw using sigmoid chain rule\n",
    "\n",
    "#         # Parameter updates\n",
    "#         T -= lr * dT\n",
    "#         F_raw[w_curr] -= lr * dF_raw\n",
    "\n",
    "#     if epoch % 10 == 0:\n",
    "#         print(f\"Epoch {epoch}, Loss: {total_loss:.4f}\")\n"
   ]
  },
  {
   "cell_type": "code",
   "execution_count": null,
   "id": "a5f9602b-a29c-4399-86d1-f9339c1f8eb7",
   "metadata": {},
   "outputs": [],
   "source": []
  }
 ],
 "metadata": {
  "kernelspec": {
   "display_name": "Python 3 (ipykernel)",
   "language": "python",
   "name": "python3"
  },
  "language_info": {
   "codemirror_mode": {
    "name": "ipython",
    "version": 3
   },
   "file_extension": ".py",
   "mimetype": "text/x-python",
   "name": "python",
   "nbconvert_exporter": "python",
   "pygments_lexer": "ipython3",
   "version": "3.13.5"
  }
 },
 "nbformat": 4,
 "nbformat_minor": 5
}
